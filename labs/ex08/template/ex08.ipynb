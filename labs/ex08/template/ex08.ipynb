{
 "cells": [
  {
   "cell_type": "code",
   "execution_count": null,
   "metadata": {},
   "outputs": [],
   "source": [
    "# Useful starting lines\n",
    "%matplotlib inline\n",
    "import numpy as np\n",
    "import matplotlib.pyplot as plt\n",
    "import torch\n",
    "import torch.nn as nn\n",
    "from torch.autograd import Variable\n",
    "%load_ext autoreload\n",
    "%autoreload 2"
   ]
  },
  {
   "cell_type": "code",
   "execution_count": null,
   "metadata": {},
   "outputs": [],
   "source": [
    "# Defining a toy dataset\n",
    "x_train = np.array([[3.3], [4.4], [5.5], [6.71], [6.93], [4.168], \n",
    "                    [9.779], [6.182], [7.59], [2.167], [7.042], \n",
    "                    [10.791], [5.313], [7.997], [3.1]], dtype=np.float32)\n",
    "\n",
    "y_train = np.array([[1.7], [2.76], [2.09], [3.19], [1.694], [1.573], \n",
    "                    [3.366], [2.596], [2.53], [1.221], [2.827], \n",
    "                        [3.465], [1.65], [2.904], [1.3]], dtype=np.float32)"
   ]
  },
  {
   "cell_type": "markdown",
   "metadata": {},
   "source": [
    "## Linear regression"
   ]
  },
  {
   "cell_type": "code",
   "execution_count": null,
   "metadata": {},
   "outputs": [],
   "source": [
    "torch.matmul(torch.zeros(3, 4), torch.ones(4, 5)).size()[0]"
   ]
  },
  {
   "cell_type": "code",
   "execution_count": null,
   "metadata": {},
   "outputs": [],
   "source": [
    "class MyLinearRegression:\n",
    "    def __init__(self):\n",
    "        self.w = torch.zeros(1, requires_grad=True)\n",
    "        self.b = torch.zeros(1, requires_grad=True)\n",
    "    \n",
    "    def forward(self, x):\n",
    "        return self.w * x + self.b\n",
    "    \n",
    "    def parameters(self):\n",
    "        return [self.w, self.b]\n",
    "    \n",
    "    def __call__(self, x):\n",
    "        # Convenience function\n",
    "        return self.forward(x)\n",
    "    \n",
    "\n",
    "def mselossfunc(pred, y):\n",
    "    e = pred - y\n",
    "    return torch.mean(e ** 2)\n",
    "\n",
    "model = MyLinearRegression()\n",
    "numpy_inputs = np.asarray([0.0, 1.0, 2.0], dtype=np.float32)\n",
    "torch_inputs = torch.from_numpy(numpy_inputs)\n",
    "torch_outputs = model(torch_inputs)\n",
    "print(\"Testing model: an input of %s gives a prediction:\\n %s\" % (numpy_inputs, torch_outputs))"
   ]
  },
  {
   "cell_type": "code",
   "execution_count": null,
   "metadata": {},
   "outputs": [],
   "source": [
    "def train(features, labels, model, lossfunc, optimizer, num_epoch):\n",
    "\n",
    "    for epoch in range(num_epoch):        \n",
    "        features_torch = torch.from_numpy(features)\n",
    "        lables_torch = torch.from_numpy(labels)\n",
    "\n",
    "        pred = model(features_torch)\n",
    "        loss = lossfunc(pred, lables_torch)\n",
    "        \n",
    "        optimizer.zero_grad()\n",
    "        loss.backward()\n",
    "        optimizer.step()\n",
    "\n",
    "        if epoch % 10 == 0:\n",
    "            print ('Epoch [%d/%d], Loss: %.4f' %(epoch+1, num_epoch, loss.item()))\n",
    "        \n",
    "        \n",
    "def visualize(x_train, y_train, model):\n",
    "    # A convenience function for visualizing predictions given by the model\n",
    "\n",
    "    predicted = model(torch.from_numpy(x_train)).data.numpy()\n",
    "    order = np.argsort(x_train, axis=0)\n",
    "    plt.plot(x_train[order].flatten(), y_train[order].flatten(), 'ro', label='Original data')\n",
    "    plt.plot(x_train[order].flatten(), predicted[order].flatten(), label='Fitted line')\n",
    "    plt.legend()\n",
    "    plt.show()"
   ]
  },
  {
   "cell_type": "code",
   "execution_count": null,
   "metadata": {},
   "outputs": [],
   "source": [
    "# Training and visualizing predictions made by linear regression model\n",
    "optimizer = torch.optim.SGD(model.parameters(), lr=1e-3)\n",
    "\n",
    "train(features=x_train,\n",
    "      labels=y_train,\n",
    "      model=model,\n",
    "      lossfunc=mselossfunc, \n",
    "      optimizer=optimizer,\n",
    "      num_epoch=50)\n",
    "visualize(x_train, y_train, model)"
   ]
  },
  {
   "cell_type": "code",
   "execution_count": null,
   "metadata": {},
   "outputs": [],
   "source": [
    "for p in model.parameters():\n",
    "    print(p)"
   ]
  },
  {
   "cell_type": "markdown",
   "metadata": {},
   "source": [
    "## Linear Regression (using nn package)"
   ]
  },
  {
   "cell_type": "code",
   "execution_count": null,
   "metadata": {},
   "outputs": [],
   "source": [
    "class NNLinearRegression(nn.Module):\n",
    "    def __init__(self):\n",
    "        super(NNLinearRegression, self).__init__()\n",
    "        \n",
    "        self.lin = nn.Linear(1, 1)\n",
    "    \n",
    "    def forward(self, x):\n",
    "        return self.lin(x)\n",
    "    \n",
    "# Training and visualizing predictions made by linear regression model (nn package)\n",
    "lossfunc = nn.MSELoss()\n",
    "\n",
    "model = NNLinearRegression()\n",
    "\n",
    "optimizer = torch.optim.SGD(model.parameters(), lr=1e-3)\n",
    "\n",
    "train(features=x_train,\n",
    "      labels=y_train,\n",
    "      model=model,\n",
    "      lossfunc=lossfunc,\n",
    "      optimizer=optimizer,\n",
    "      num_epoch=100)\n",
    "visualize(x_train, y_train, model)"
   ]
  },
  {
   "cell_type": "markdown",
   "metadata": {},
   "source": [
    "## MLP"
   ]
  },
  {
   "cell_type": "code",
   "execution_count": null,
   "metadata": {},
   "outputs": [],
   "source": [
    "class MLP(nn.Module):\n",
    "    def __init__(self, hidden_size):\n",
    "        super(MLP, self).__init__()\n",
    "        \n",
    "        self.lin1 = nn.Linear(1, hidden_size)\n",
    "        self.lin2 = nn.Linear(hidden_size, 1)\n",
    "    \n",
    "    def forward(self, x):\n",
    "        x = self.lin1(x)\n",
    "        x = torch.sigmoid(x)\n",
    "        x = self.lin2(x)\n",
    "        return x\n",
    "\n",
    "# TODO: Play with learning rate, hidden size, and optimizer type for multi-layered perceptron\n",
    "hidden_size = 3\n",
    "learning_rate = 5e-2\n",
    "\n",
    "model = MLP(hidden_size=hidden_size)\n",
    "\n",
    "optimizer = torch.optim.SGD(model.parameters(), lr = learning_rate)\n",
    "\n",
    "train(features=x_train,\n",
    "      labels=y_train,\n",
    "      model=model,\n",
    "      lossfunc=lossfunc,\n",
    "      optimizer=optimizer,\n",
    "      num_epoch=300)\n",
    "visualize(x_train, y_train, model)"
   ]
  },
  {
   "cell_type": "code",
   "execution_count": null,
   "metadata": {},
   "outputs": [],
   "source": []
  }
 ],
 "metadata": {
  "kernelspec": {
   "display_name": "Python 3",
   "language": "python",
   "name": "python3"
  },
  "language_info": {
   "codemirror_mode": {
    "name": "ipython",
    "version": 3
   },
   "file_extension": ".py",
   "mimetype": "text/x-python",
   "name": "python",
   "nbconvert_exporter": "python",
   "pygments_lexer": "ipython3",
   "version": "3.8.5"
  }
 },
 "nbformat": 4,
 "nbformat_minor": 4
}
